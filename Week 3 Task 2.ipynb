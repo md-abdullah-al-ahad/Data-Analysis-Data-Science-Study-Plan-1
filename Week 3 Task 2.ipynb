{
 "cells": [
  {
   "cell_type": "markdown",
   "id": "525831d6-2298-4d8f-a22b-5d089bd874c7",
   "metadata": {},
   "source": [
    "1. Introduction to NumPy and Array Creation"
   ]
  },
  {
   "cell_type": "code",
   "execution_count": 1,
   "id": "b417b80c-e646-4768-94f7-86fe2061bf92",
   "metadata": {},
   "outputs": [
    {
     "data": {
      "text/plain": [
       "array([10, 20, 30, 40, 50])"
      ]
     },
     "execution_count": 1,
     "metadata": {},
     "output_type": "execute_result"
    }
   ],
   "source": [
    "import numpy as np\n",
    "#creating 1D array with given element\n",
    "a = np.array([10, 20, 30, 40, 50])\n",
    "a"
   ]
  },
  {
   "cell_type": "code",
   "execution_count": 2,
   "id": "c28dea5e-689f-4a93-bab7-f46b7c010b36",
   "metadata": {},
   "outputs": [
    {
     "data": {
      "text/plain": [
       "array([[0., 0., 0.],\n",
       "       [0., 0., 0.]])"
      ]
     },
     "execution_count": 2,
     "metadata": {},
     "output_type": "execute_result"
    }
   ],
   "source": [
    "#creating a 2D array with (2,3) shape with all zeros\n",
    "a = np.zeros((2,3))\n",
    "a"
   ]
  },
  {
   "cell_type": "code",
   "execution_count": 3,
   "id": "77ba2664-6177-4f41-aba8-4b23a26d7ef2",
   "metadata": {},
   "outputs": [
    {
     "data": {
      "text/plain": [
       "array([  0.,  25.,  50.,  75., 100.])"
      ]
     },
     "execution_count": 3,
     "metadata": {},
     "output_type": "execute_result"
    }
   ],
   "source": [
    "#using linspace to create an evenly spaced array from 0 to 100\n",
    "a = np.linspace(0,100,5)\n",
    "a"
   ]
  },
  {
   "cell_type": "markdown",
   "id": "4cdc5b9b-f800-449e-8499-280eb2092657",
   "metadata": {},
   "source": [
    "2. Array Indexing and Slicing"
   ]
  },
  {
   "cell_type": "code",
   "execution_count": 4,
   "id": "1237c34f-491d-492a-b958-2028d4347b96",
   "metadata": {},
   "outputs": [
    {
     "data": {
      "text/plain": [
       "array([ 5, 10, 15])"
      ]
     },
     "execution_count": 4,
     "metadata": {},
     "output_type": "execute_result"
    }
   ],
   "source": [
    "a = np.array([5, 10, 15, 20, 25, 30])\n",
    "#extracting first three elements in an array using slicing\n",
    "b = a[:3]\n",
    "b"
   ]
  },
  {
   "cell_type": "code",
   "execution_count": 5,
   "id": "b68835a1-16d7-423e-91b5-8e5cb49a510d",
   "metadata": {},
   "outputs": [
    {
     "name": "stdout",
     "output_type": "stream",
     "text": [
      "[ 5 15 25]\n",
      "[10 20 30]\n"
     ]
    }
   ],
   "source": [
    "#extracting every second element from first index\n",
    "c = a[::2]\n",
    "#extracting every second element from second index\n",
    "d= a[1::2]\n",
    "print(c)\n",
    "print(d)"
   ]
  },
  {
   "cell_type": "code",
   "execution_count": 6,
   "id": "2106af85-e28f-42e0-a2e5-6b65d4b0d388",
   "metadata": {},
   "outputs": [
    {
     "data": {
      "text/plain": [
       "array([ 5, 10, 15, 50, 25, 30])"
      ]
     },
     "execution_count": 6,
     "metadata": {},
     "output_type": "execute_result"
    }
   ],
   "source": [
    "#mutating the 4th element to 50 and printing the updated array\n",
    "a[3] = 50\n",
    "a"
   ]
  },
  {
   "cell_type": "markdown",
   "id": "ad29399a-82b5-4f09-88f5-cf07598c2053",
   "metadata": {},
   "source": [
    "3. Reshaping Arrays"
   ]
  },
  {
   "cell_type": "code",
   "execution_count": 7,
   "id": "21a7a091-387c-4593-89ee-6a7ed669daf9",
   "metadata": {},
   "outputs": [
    {
     "data": {
      "text/plain": [
       "array([ 1,  2,  3,  4,  5,  6,  7,  8,  9, 10, 11, 12])"
      ]
     },
     "execution_count": 7,
     "metadata": {},
     "output_type": "execute_result"
    }
   ],
   "source": [
    "#creating an 1D array ranging from 1 to 12\n",
    "a = np.arange(1,13)\n",
    "a"
   ]
  },
  {
   "cell_type": "code",
   "execution_count": 8,
   "id": "c66cee3d-b151-4d30-aeb9-39a7c5486eb9",
   "metadata": {},
   "outputs": [
    {
     "data": {
      "text/plain": [
       "array([[ 1,  2,  3,  4],\n",
       "       [ 5,  6,  7,  8],\n",
       "       [ 9, 10, 11, 12]])"
      ]
     },
     "execution_count": 8,
     "metadata": {},
     "output_type": "execute_result"
    }
   ],
   "source": [
    "#reshaping the 1D array into a 2D array of shape (3,4)\n",
    "b = a.reshape((3,4))\n",
    "b"
   ]
  },
  {
   "cell_type": "markdown",
   "id": "59f23b73-0ccb-49f3-a6ae-41e7d29af38f",
   "metadata": {},
   "source": [
    "4. Broadcasting and Element-wise Operations"
   ]
  },
  {
   "cell_type": "code",
   "execution_count": 9,
   "id": "7c6d5050-c601-4e88-b829-be9fecbb6319",
   "metadata": {},
   "outputs": [
    {
     "data": {
      "text/plain": [
       "array([11, 12, 13, 14, 15])"
      ]
     },
     "execution_count": 9,
     "metadata": {},
     "output_type": "execute_result"
    }
   ],
   "source": [
    "# creating a 1D array with given elements\n",
    "a = np.array([1, 2, 3, 4, 5])\n",
    "#adding 10 to every element of the array\n",
    "b = a + 10\n",
    "b"
   ]
  },
  {
   "cell_type": "code",
   "execution_count": 10,
   "id": "8c8f8a30-b1a4-44a4-baf1-5b921a1e8ae6",
   "metadata": {},
   "outputs": [
    {
     "data": {
      "text/plain": [
       "array([ 3,  6,  9, 12, 15])"
      ]
     },
     "execution_count": 10,
     "metadata": {},
     "output_type": "execute_result"
    }
   ],
   "source": [
    "#multiplying each element by 3 of the original array\n",
    "c = a*3\n",
    "c"
   ]
  },
  {
   "cell_type": "code",
   "execution_count": 11,
   "id": "a0136963-88cd-4c25-b561-a818c149801c",
   "metadata": {},
   "outputs": [
    {
     "data": {
      "text/plain": [
       "array([ 1,  4,  9, 16, 25])"
      ]
     },
     "execution_count": 11,
     "metadata": {},
     "output_type": "execute_result"
    }
   ],
   "source": [
    "#calculating the square of each element\n",
    "d = a**2\n",
    "d"
   ]
  },
  {
   "cell_type": "markdown",
   "id": "54917c0e-66ab-4a4b-bcda-3f93427de9da",
   "metadata": {},
   "source": [
    "5. Basic Statistics with Arrays"
   ]
  },
  {
   "cell_type": "code",
   "execution_count": 12,
   "id": "ae9a6a41-56df-4fd8-9b05-544c3510332e",
   "metadata": {},
   "outputs": [
    {
     "data": {
      "text/plain": [
       "31.0"
      ]
     },
     "execution_count": 12,
     "metadata": {},
     "output_type": "execute_result"
    }
   ],
   "source": [
    "a = np.array( [30, 32, 31, 29, 28, 33, 34])\n",
    "#finding the mean temperature of the week using np.mean\n",
    "np.mean(a)"
   ]
  },
  {
   "cell_type": "code",
   "execution_count": 13,
   "id": "5cb83fde-9f05-4f1c-b7a7-4c54b2e452b3",
   "metadata": {},
   "outputs": [
    {
     "name": "stdout",
     "output_type": "stream",
     "text": [
      "34\n",
      "28\n"
     ]
    }
   ],
   "source": [
    "#printing the max and min temperature using the max and min\n",
    "print(np.max(a))\n",
    "print(np.min(a))"
   ]
  },
  {
   "cell_type": "code",
   "execution_count": 14,
   "id": "5847ad68-f8fa-42c3-a625-4f60c7c57836",
   "metadata": {},
   "outputs": [
    {
     "data": {
      "text/plain": [
       "217"
      ]
     },
     "execution_count": 14,
     "metadata": {},
     "output_type": "execute_result"
    }
   ],
   "source": [
    "#calculating the sum of the temperatures\n",
    "np.sum(a)"
   ]
  },
  {
   "cell_type": "markdown",
   "id": "c9a376de-d8dd-436f-9119-7a78ba72bdfd",
   "metadata": {},
   "source": [
    "6. Real-World Problem: Sales Analysis"
   ]
  },
  {
   "cell_type": "code",
   "execution_count": 15,
   "id": "eee7e2e8-73ab-46be-8ac6-52d8f8839803",
   "metadata": {},
   "outputs": [
    {
     "data": {
      "text/plain": [
       "array([1240,  860])"
      ]
     },
     "execution_count": 15,
     "metadata": {},
     "output_type": "execute_result"
    }
   ],
   "source": [
    "\n",
    "a = np.array(([[200, 220, 250, 270, 300],\n",
    "               [150, 160, 170, 180, 200]]))\n",
    "total = np.sum(a,axis=1)\n",
    "#total sales of the two products\n",
    "total"
   ]
  },
  {
   "cell_type": "code",
   "execution_count": 16,
   "id": "23f3cf72-8243-47f4-8373-33f6e2698286",
   "metadata": {},
   "outputs": [
    {
     "data": {
      "text/plain": [
       "array([175., 190., 210., 225., 250.])"
      ]
     },
     "execution_count": 16,
     "metadata": {},
     "output_type": "execute_result"
    }
   ],
   "source": [
    "#average sales per day\n",
    "average_sales =  np.mean(a,axis = 0)\n",
    "average_sales"
   ]
  },
  {
   "cell_type": "code",
   "execution_count": 17,
   "id": "6abb813c-c37b-4911-9723-0125415e4769",
   "metadata": {},
   "outputs": [
    {
     "data": {
      "text/plain": [
       "array([5, 5], dtype=int64)"
      ]
     },
     "execution_count": 17,
     "metadata": {},
     "output_type": "execute_result"
    }
   ],
   "source": [
    "#Highest sales of each product by day\n",
    "higest_sales_day = np.argmax(a,axis = 1) + 1\n",
    "higest_sales_day"
   ]
  },
  {
   "cell_type": "code",
   "execution_count": null,
   "id": "452b0a64-8f13-4923-baf8-c554909e4f7a",
   "metadata": {},
   "outputs": [],
   "source": []
  }
 ],
 "metadata": {
  "kernelspec": {
   "display_name": "Python 3 (ipykernel)",
   "language": "python",
   "name": "python3"
  },
  "language_info": {
   "codemirror_mode": {
    "name": "ipython",
    "version": 3
   },
   "file_extension": ".py",
   "mimetype": "text/x-python",
   "name": "python",
   "nbconvert_exporter": "python",
   "pygments_lexer": "ipython3",
   "version": "3.12.1"
  }
 },
 "nbformat": 4,
 "nbformat_minor": 5
}
